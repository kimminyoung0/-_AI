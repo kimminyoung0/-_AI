{
 "cells": [
  {
   "cell_type": "code",
   "execution_count": null,
   "metadata": {
    "deletable": false,
    "pbl_cell_type": "hidden_setup_code",
    "step_id": 4887,
    "step_number": 0
   },
   "outputs": [],
   "source": [
    "#hiddencell\n",
    "import seaborn as sns\n",
    "\n",
    "import matplotlib.pyplot as plt\n",
    "import matplotlib.font_manager as fm\n",
    "from catboost import CatBoostRegressor\n",
    "\n",
    "fe = fm.FontEntry(fname = 'MaruBuri-Regular.otf', name = 'MaruBuri')\n",
    "fm.fontManager.ttflist.insert(0, fe)\n",
    "plt.rc('font', family='MaruBuri')\n",
    "import pprint"
   ]
  },
  {
   "cell_type": "code",
   "execution_count": null,
   "metadata": {},
   "outputs": [],
   "source": [
    "#메모리 부족할 때 캐시지우기\n",
    "!jupyter nbconvert --clear-output --inplace 7.데이터살펴보기.ipynb"
   ]
  },
  {
   "cell_type": "code",
   "execution_count": null,
   "metadata": {},
   "outputs": [],
   "source": [
    "from scipy.stats import randint\n",
    "from sklearn.preprocessing import LabelEncoder\n",
    "from sklearn.model_selection import KFold\n",
    "from sklearn.model_selection import cross_val_score\n",
    "from sklearn.model_selection import train_test_split\n",
    "from sklearn.metrics import f1_score\n",
    "from sklearn.metrics import accuracy_score"
   ]
  },
  {
   "cell_type": "code",
   "execution_count": null,
   "metadata": {},
   "outputs": [],
   "source": [
    "import matplotlib.pyplot as mpl\n",
    "import platform\n",
    "\n",
    "# rc는그래프의 스타일, 레이아웃 및 기타 속성을 설정\n",
    "from matplotlib import font_manager as fm, rc\n",
    "\n",
    "# 맥OS일 경우\n",
    "if platform.system() == 'Darwin':\n",
    "    mpl.rcParams[\"font.family\"] = 'AppleGothic'\n",
    "\n",
    "elif platform.system() == 'Windows':\n",
    "    font_name = fm.FontProperties(fname=path).get_name()\n",
    "    mpl.rcParams[\"font.family\"] = font_name\n",
    "elif platform.system() == 'Linux':\n",
    "    mpl.rcParams['font.family'] = 'NanumGothic'\n",
    "\n",
    "#그림에서 마이너스 폰트 깨지는 문제에 대한 대처\n",
    "mpl.rcParams['axes.unicode_minus'] = False\n",
    "\n",
    "#mpl.rcParams[\"font.family\"] = 'AppleGothic'"
   ]
  },
  {
   "cell_type": "code",
   "execution_count": null,
   "metadata": {},
   "outputs": [],
   "source": [
    "pd.set_option('display.max_rows', None)\n",
    "pd.set_option('display.max_columns', None)"
   ]
  },
  {
   "cell_type": "markdown",
   "metadata": {
    "deletable": false,
    "pbl_cell_type": "markdown",
    "step_id": 4887,
    "step_number": 0
   },
   "source": [
    "# **대구 교통 사고 피해 예측 AI 경진대회 Baseline Code**"
   ]
  },
  {
   "cell_type": "markdown",
   "metadata": {
    "pbl_cell_type": "markdown",
    "step_id": 5096,
    "step_number": 1
   },
   "source": [
    "## **Fixed Random Seed**  \n",
    "\n",
    "seed 값에 의해 동일한 코드를 사용해도 결과가 다를 수 있기에, 동일한 결과를 위해 seed 값을 고정시킵니다"
   ]
  },
  {
   "cell_type": "code",
   "execution_count": null,
   "metadata": {
    "pbl_cell_type": "code",
    "step_id": 5096,
    "step_number": 1
   },
   "outputs": [],
   "source": [
    "import os\n",
    "import random\n",
    "import numpy as np\n",
    "import pandas as pd \n",
    "\n",
    "def seed_everything(seed):\n",
    "    random.seed(seed)\n",
    "    os.environ['PYTHONHASHSEED'] = str(seed)\n",
    "    np.random.seed(seed)\n",
    "\n",
    "seed_everything(42)"
   ]
  },
  {
   "cell_type": "markdown",
   "metadata": {},
   "source": [
    "### 추가할 데이터가 있는지 살펴보기"
   ]
  },
  {
   "cell_type": "code",
   "execution_count": null,
   "metadata": {},
   "outputs": [],
   "source": [
    "security = pd.read_csv('./data/external_open/대구 보안등 정보.csv', encoding = 'utf-8')"
   ]
  },
  {
   "cell_type": "code",
   "execution_count": null,
   "metadata": {},
   "outputs": [],
   "source": [
    "security"
   ]
  },
  {
   "cell_type": "code",
   "execution_count": null,
   "metadata": {},
   "outputs": [],
   "source": [
    "child = pd.read_csv('./data/external_open/대구 어린이 보호 구역 정보.csv')"
   ]
  },
  {
   "cell_type": "code",
   "execution_count": null,
   "metadata": {},
   "outputs": [],
   "source": [
    "child"
   ]
  },
  {
   "cell_type": "code",
   "execution_count": null,
   "metadata": {},
   "outputs": [],
   "source": [
    "parklot = pd.read_csv('./data/external_open/대구 주차장 정보.csv')"
   ]
  },
  {
   "cell_type": "code",
   "execution_count": null,
   "metadata": {},
   "outputs": [],
   "source": [
    "parklot"
   ]
  },
  {
   "cell_type": "code",
   "execution_count": null,
   "metadata": {},
   "outputs": [],
   "source": [
    "cctv = pd.read_csv('./data/external_open/대구 CCTV 정보.csv')"
   ]
  },
  {
   "cell_type": "code",
   "execution_count": null,
   "metadata": {},
   "outputs": [],
   "source": [
    "cctv"
   ]
  },
  {
   "cell_type": "markdown",
   "metadata": {},
   "source": [
    "### 위도와 경도가 지역구나 동마다 얼마나 차이나는지 round 함수를 통해 알아본다.(임의로 cctv)"
   ]
  },
  {
   "cell_type": "code",
   "execution_count": null,
   "metadata": {},
   "outputs": [],
   "source": [
    "a = round(cctv.loc[0]['위도'], 4)"
   ]
  },
  {
   "cell_type": "code",
   "execution_count": null,
   "metadata": {},
   "outputs": [],
   "source": [
    "a"
   ]
  },
  {
   "cell_type": "code",
   "execution_count": null,
   "metadata": {},
   "outputs": [],
   "source": [
    "cctv[round(cctv['위도'], 2)==round(cctv.loc[0]['위도'], 2)]"
   ]
  },
  {
   "cell_type": "code",
   "execution_count": null,
   "metadata": {},
   "outputs": [],
   "source": [
    "num = 2\n",
    "for index in cctv.index:\n",
    "    print(index, cctv.loc[index]['소재지지번주소'])\n",
    "    print(round(cctv.loc[index]['위도'], num), '비슷한 구역: ', cctv[(round(cctv['위도'], num)==round(cctv.loc[index]['위도'], num)) & (round(cctv['경도'], num)==round(cctv.loc[index]['경도'], num))]['소재지지번주소'])\n",
    "    print('\\n')"
   ]
  },
  {
   "cell_type": "markdown",
   "metadata": {},
   "source": [
    "-> 위도와 경도를 2번째자리까지 두면 같은 동끼리 묶인다. (1은 다른 동끼리 묶임)"
   ]
  },
  {
   "cell_type": "code",
   "execution_count": null,
   "metadata": {},
   "outputs": [],
   "source": [
    "train = pd.read_csv('./data/trainll_pp.csv')"
   ]
  },
  {
   "cell_type": "code",
   "execution_count": null,
   "metadata": {},
   "outputs": [],
   "source": [
    "num = 2\n",
    "for index in train.index:\n",
    "    print(index, train.loc[index]['동'])\n",
    "    print(round(train.loc[index]['위도'], num), '비슷한 구역: ', train[(round(train['위도'], num)==round(train.loc[index]['위도'], num)) & (round(train['경도'], num)==round(train.loc[index]['경도'], num))]['동'])\n",
    "    print('\\n')"
   ]
  },
  {
   "cell_type": "code",
   "execution_count": null,
   "metadata": {},
   "outputs": [],
   "source": []
  },
  {
   "cell_type": "markdown",
   "metadata": {
    "pbl_cell_type": "markdown",
    "step_id": 5096,
    "step_number": 1
   },
   "source": [
    "## **데이터 불러오기 및 상위행 확인**  \n",
    "\n",
    "train.csv, test.csv 파일을 로드하여 상위행을 출력해 봅시다"
   ]
  },
  {
   "cell_type": "markdown",
   "metadata": {
    "pbl_cell_type": "markdown",
    "step_id": 5096,
    "step_number": 1
   },
   "source": [
    "<img src=\"https://drive.google.com/uc?id=19PvSqu8k04D3a-Bskcl-d-Xkckkn2Fvv\">  "
   ]
  },
  {
   "cell_type": "code",
   "execution_count": null,
   "metadata": {
    "pbl_cell_type": "code",
    "step_id": 5096,
    "step_number": 1
   },
   "outputs": [],
   "source": [
    "sample_submission = pd.read_csv(\"./data/sample_submission.csv\")\n",
    "sample_submission.head()"
   ]
  },
  {
   "cell_type": "markdown",
   "metadata": {},
   "source": [
    "### 지금까지 전처리한 train, test 데이터 저장"
   ]
  },
  {
   "cell_type": "code",
   "execution_count": null,
   "metadata": {},
   "outputs": [],
   "source": [
    "# # _latitude_longtitude/preprocessing / 위도경도 합쳤고, 파생 변수 3개 생성한 데이터\n",
    "# train_df.to_csv('./data/trainll_pp.csv', index = False)\n",
    "# test_df.to_csv('./data/testll_pp.csv', index = False)"
   ]
  },
  {
   "cell_type": "code",
   "execution_count": null,
   "metadata": {},
   "outputs": [],
   "source": [
    "train_df = pd.read_csv('./data/trainll_pp.csv')\n",
    "test_df = pd.read_csv('./data/testll_pp.csv')"
   ]
  },
  {
   "cell_type": "markdown",
   "metadata": {},
   "source": [
    "### train과 test의 '동' 데이터값 괜찮은지 확인"
   ]
  },
  {
   "cell_type": "code",
   "execution_count": null,
   "metadata": {},
   "outputs": [],
   "source": [
    "for i, item in enumerate(train_df['동'].unique()):\n",
    "    print(item, end = \" \")\n",
    "    if i%10 == 9:\n",
    "        print(\"\\n\")"
   ]
  },
  {
   "cell_type": "code",
   "execution_count": null,
   "metadata": {},
   "outputs": [],
   "source": [
    "for i, item in enumerate(test_df['동'].unique()):\n",
    "    print(item, end = \" \")\n",
    "    if i%10 == 9:\n",
    "        print(\"\\n\")"
   ]
  },
  {
   "cell_type": "code",
   "execution_count": null,
   "metadata": {},
   "outputs": [],
   "source": [
    "from matplotlib_venn import venn2, venn2_circles\n",
    "\n",
    "def venn(sets):\n",
    "    venn2(subsets=sets, set_labels=('train_df.동', 'test_df.동'))\n",
    "    plt.show()\n",
    "\n",
    "venn([set(train_df.동.unique()), set(test_df.동.unique())])"
   ]
  },
  {
   "cell_type": "markdown",
   "metadata": {},
   "source": [
    "## 상관관계 분석"
   ]
  },
  {
   "cell_type": "markdown",
   "metadata": {},
   "source": [
    "### ECLO 컬럼 가져오기"
   ]
  },
  {
   "cell_type": "code",
   "execution_count": null,
   "metadata": {},
   "outputs": [],
   "source": [
    "tr = pd.read_csv('./data/train.csv')\n",
    "tr.ECLO"
   ]
  },
  {
   "cell_type": "code",
   "execution_count": null,
   "metadata": {},
   "outputs": [],
   "source": [
    "train_df['ECLO'] = tr['ECLO']"
   ]
  },
  {
   "cell_type": "markdown",
   "metadata": {},
   "source": [
    "### 범주형 데이터 수치형 데이터로 변환하기"
   ]
  },
  {
   "cell_type": "code",
   "execution_count": null,
   "metadata": {},
   "outputs": [],
   "source": [
    "from sklearn.preprocessing import LabelEncoder\n",
    "\n",
    "categorical_features = list(train_df.dtypes[train_df.dtypes == \"object\"].index)\n",
    "# 추출된 문자열 변수 확인\n",
    "display(categorical_features)\n",
    "\n",
    "for i in categorical_features:\n",
    "    le = LabelEncoder()\n",
    "    le=le.fit(train_df[i]) \n",
    "    train_df[i]=le.transform(train_df[i])"
   ]
  },
  {
   "cell_type": "code",
   "execution_count": null,
   "metadata": {},
   "outputs": [],
   "source": [
    "# 상관관계 행렬 계산\n",
    "corr_matrix = train_df.corr()\n",
    "\n",
    "# 히트맵 그리기\n",
    "plt.figure(figsize=(40, 30))\n",
    "sns.heatmap(corr_matrix, annot=True, cmap='coolwarm', fmt=\".2f\")\n",
    "plt.title('Correlation Heatmap of Features')\n",
    "plt.savefig('./image/heatmap_train.png')\n",
    "plt.show()"
   ]
  },
  {
   "cell_type": "markdown",
   "metadata": {},
   "source": [
    "ECLO 수식에 따라 **중상자수**와 **부상자수**가 그나마 큰 상관관계를 가지고 있다.\n",
    "\n",
    "하지만 모델에 학습시키는 train data에는 중상자수와 부상자수가 안 들어간다.\n",
    "\n",
    "다른 데이터를 통해 추가할 수 있는지 알아본다."
   ]
  }
 ],
 "metadata": {
  "kernelspec": {
   "display_name": "danal",
   "language": "python",
   "name": "danal"
  },
  "language_info": {
   "codemirror_mode": {
    "name": "ipython",
    "version": 3
   },
   "file_extension": ".py",
   "mimetype": "text/x-python",
   "name": "python",
   "nbconvert_exporter": "python",
   "pygments_lexer": "ipython3",
   "version": "3.8.18"
  }
 },
 "nbformat": 4,
 "nbformat_minor": 4
}
